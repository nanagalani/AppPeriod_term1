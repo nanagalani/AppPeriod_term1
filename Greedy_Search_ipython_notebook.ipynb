{
 "metadata": {
  "name": "",
  "signature": "sha256:be652c882c2e7b5c764024edb2affe863a69233e81c892d6331007be185be02e"
 },
 "nbformat": 3,
 "nbformat_minor": 0,
 "worksheets": [
  {
   "cells": [
    {
     "cell_type": "code",
     "collapsed": false,
     "input": [
      "f = open('whomwho.txt', 'r')\n",
      "whomwho = {}\n",
      "\n",
      "for line in f.readlines():\n",
      "    if line.split(',')[0] in whomwho.keys():\n",
      "        whomwho[line.split(',')[0]].append(line.split(',')[1][:-1])\n",
      "    else:\n",
      "        whomwho[line.split(',')[0]] = [line.split(',')[1][:-1]]"
     ],
     "language": "python",
     "metadata": {},
     "outputs": [],
     "prompt_number": 2
    },
    {
     "cell_type": "code",
     "collapsed": false,
     "input": [
      "all_fol = []\n",
      "for val, val2 in whomwho.items():\n",
      "    for fol in val2:\n",
      "        all_fol.append(fol);\n",
      "print len(all_fol)"
     ],
     "language": "python",
     "metadata": {},
     "outputs": [
      {
       "output_type": "stream",
       "stream": "stdout",
       "text": [
        "8685572\n"
       ]
      }
     ],
     "prompt_number": 4
    },
    {
     "cell_type": "code",
     "collapsed": false,
     "input": [
      "unique_fol = np.unique(all_fol)"
     ],
     "language": "python",
     "metadata": {},
     "outputs": [],
     "prompt_number": 23
    },
    {
     "cell_type": "code",
     "collapsed": false,
     "input": [
      "import sys\n",
      "import time\n",
      "\n",
      "coverage = 0.8\n",
      "total_followers = len(unique_fol)\n",
      "covered_followers = []\n",
      "included_influencers = []\n",
      "while len(covered_followers) < coverage*total_followers:\n",
      "    maximum_followers = 0\n",
      "    best_influencer = 0\n",
      "    for key in whomwho.keys():\n",
      "        followers_already_covered = len(set(whomwho[key]).intersection(covered_followers))\n",
      "        if (len(whomwho[key])-followers_already_covered >= maximum_followers and key not in included_influencers):\n",
      "            maximum_followers = len(whomwho[key])-followers_already_covered\n",
      "            best_influencer = key\n",
      "    start = time.time()        \n",
      "    if (best_influencer != 0):\n",
      "        print best_influencer\n",
      "        sys.stdout.flush()\n",
      "        included_influencers.append(best_influencer)\n",
      "        for element in whomwho[best_influencer]:\n",
      "            covered_followers.append(element)\n",
      "\n",
      "print \"\\ntime\",time.time()-start\n",
      "print included_influencers"
     ],
     "language": "python",
     "metadata": {},
     "outputs": [
      {
       "output_type": "stream",
       "stream": "stdout",
       "text": [
        "35415477\n"
       ]
      },
      {
       "output_type": "stream",
       "stream": "stdout",
       "text": [
        "39585367\n"
       ]
      },
      {
       "output_type": "stream",
       "stream": "stdout",
       "text": [
        "75713796\n"
       ]
      },
      {
       "output_type": "stream",
       "stream": "stdout",
       "text": [
        "20437286\n"
       ]
      },
      {
       "output_type": "stream",
       "stream": "stdout",
       "text": [
        "16689804\n"
       ]
      },
      {
       "output_type": "stream",
       "stream": "stdout",
       "text": [
        "4432431\n"
       ]
      },
      {
       "output_type": "stream",
       "stream": "stdout",
       "text": [
        "296613312\n"
       ]
      },
      {
       "output_type": "stream",
       "stream": "stdout",
       "text": [
        "143039548\n"
       ]
      },
      {
       "output_type": "stream",
       "stream": "stdout",
       "text": [
        "14732889\n"
       ]
      },
      {
       "output_type": "stream",
       "stream": "stdout",
       "text": [
        "32604273\n"
       ]
      },
      {
       "output_type": "stream",
       "stream": "stdout",
       "text": [
        "374561507\n"
       ]
      },
      {
       "output_type": "stream",
       "stream": "stdout",
       "text": [
        "1947674420\n"
       ]
      },
      {
       "output_type": "stream",
       "stream": "stdout",
       "text": [
        "15147042\n"
       ]
      },
      {
       "output_type": "stream",
       "stream": "stdout",
       "text": [
        "15460048\n"
       ]
      },
      {
       "output_type": "stream",
       "stream": "stdout",
       "text": [
        "['35415477', '39585367', '75713796', '20437286', '16689804', '4432431', '296613312', '143039548', '14732889', '32604273', '374561507', '1947674420', '15147042', '15460048']\n"
       ]
      }
     ],
     "prompt_number": 126
    },
    {
     "cell_type": "code",
     "collapsed": false,
     "input": [
      "len(covered_followers)"
     ],
     "language": "python",
     "metadata": {},
     "outputs": [
      {
       "metadata": {},
       "output_type": "pyout",
       "prompt_number": 130,
       "text": [
        "3455532"
       ]
      }
     ],
     "prompt_number": 130
    }
   ],
   "metadata": {}
  }
 ]
}